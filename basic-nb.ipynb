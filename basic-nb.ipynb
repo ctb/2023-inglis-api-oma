{
 "cells": [
  {
   "cell_type": "code",
   "execution_count": 2,
   "id": "e0ced7d8",
   "metadata": {},
   "outputs": [],
   "source": [
    "import pandas as pd\n",
    "import os\n",
    "import io\n",
    "import urllib3\n",
    "import json"
   ]
  },
  {
   "cell_type": "code",
   "execution_count": 8,
   "id": "8e069324",
   "metadata": {},
   "outputs": [],
   "source": [
    "idlist = [\"P06213\", \"P14735\"]\n",
    "query_body = dict(ids=idlist)\n",
    "\n",
    "query_json = json.dumps(query_body)"
   ]
  },
  {
   "cell_type": "code",
   "execution_count": 9,
   "id": "c70c4937",
   "metadata": {},
   "outputs": [],
   "source": [
    "http = urllib3.PoolManager()\n",
    "r = http.request('POST',\n",
    "                 'https://omabrowser.org/api/protein/bulk_retrieve/',\n",
    "                 body = query_json,\n",
    "                 headers = { 'Content-Type': 'application/json'})\n",
    "\n",
    "query_results_text = r.data.decode('utf-8')"
   ]
  },
  {
   "cell_type": "code",
   "execution_count": 31,
   "id": "a245b0ee",
   "metadata": {},
   "outputs": [],
   "source": [
    "query_results = json.loads(query_results_text)"
   ]
  },
  {
   "cell_type": "code",
   "execution_count": 32,
   "id": "67690aae",
   "metadata": {},
   "outputs": [
    {
     "data": {
      "text/plain": [
       "2"
      ]
     },
     "execution_count": 32,
     "metadata": {},
     "output_type": "execute_result"
    }
   ],
   "source": [
    "len(query_results)"
   ]
  },
  {
   "cell_type": "code",
   "execution_count": 38,
   "id": "91bceb04",
   "metadata": {},
   "outputs": [],
   "source": [
    "def get_orthologs(url):\n",
    "    r = http.request('GET', url)\n",
    "\n",
    "    results = r.data.decode('utf-8')\n",
    "    return json.loads(results)"
   ]
  },
  {
   "cell_type": "code",
   "execution_count": 53,
   "id": "e917b93d",
   "metadata": {},
   "outputs": [
    {
     "name": "stdout",
     "output_type": "stream",
     "text": [
      "https://omabrowser.org/api/protein/12062408/orthologs/\n",
      "got 285 orthologs back.\n",
      "https://omabrowser.org/api/protein/12024336/orthologs/\n",
      "got 1083 orthologs back.\n"
     ]
    }
   ],
   "source": [
    "ortholog_list = []\n",
    "\n",
    "for qr in query_results:\n",
    "    ortholog_url = qr['target']['orthologs']\n",
    "    print(ortholog_url)\n",
    "    ortholog_info = get_orthologs(ortholog_url)\n",
    "    ortholog_list.append(ortholog_info)\n",
    "    \n",
    "    print(f\"got {len(ortholog_info)} orthologs back.\")"
   ]
  },
  {
   "cell_type": "code",
   "execution_count": 54,
   "id": "c859bf3a",
   "metadata": {},
   "outputs": [
    {
     "name": "stdout",
     "output_type": "stream",
     "text": [
      "P06213 285\n",
      "P14735 1083\n"
     ]
    }
   ],
   "source": [
    "for query_id, ortholog in zip(idlist, ortholog_list):\n",
    "    print(query_id, len(ortholog))"
   ]
  },
  {
   "cell_type": "code",
   "execution_count": null,
   "id": "3b67e356",
   "metadata": {},
   "outputs": [],
   "source": []
  }
 ],
 "metadata": {
  "kernelspec": {
   "display_name": "py38arm",
   "language": "python",
   "name": "py38arm"
  },
  "language_info": {
   "codemirror_mode": {
    "name": "ipython",
    "version": 3
   },
   "file_extension": ".py",
   "mimetype": "text/x-python",
   "name": "python",
   "nbconvert_exporter": "python",
   "pygments_lexer": "ipython3",
   "version": "3.8.13"
  }
 },
 "nbformat": 4,
 "nbformat_minor": 5
}
